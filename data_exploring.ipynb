{
  "nbformat": 4,
  "nbformat_minor": 2,
  "metadata": {
    "colab": {
      "name": "data_exploring.ipynb",
      "provenance": [],
      "collapsed_sections": []
    },
    "kernelspec": {
      "name": "python3",
      "display_name": "Python 3.8.5 64-bit ('base': conda)"
    },
    "language_info": {
      "name": "python",
      "version": "3.8.5",
      "mimetype": "text/x-python",
      "codemirror_mode": {
        "name": "ipython",
        "version": 3
      },
      "pygments_lexer": "ipython3",
      "nbconvert_exporter": "python",
      "file_extension": ".py"
    },
    "interpreter": {
      "hash": "813c933f8cfc1e919db9978de8c01c92c9277d72c90ca8a32521ca4450e44278"
    }
  },
  "cells": [
    {
      "cell_type": "code",
      "execution_count": 2,
      "source": [
        "import numpy as np\r\n",
        "import cv2\r\n",
        "from matplotlib import pyplot as plt\r\n",
        "\r\n",
        "#plt.rcParams['figure.figsize'] = (10,10)"
      ],
      "outputs": [],
      "metadata": {
        "id": "TBYr69LsG3ef"
      }
    },
    {
      "cell_type": "code",
      "execution_count": null,
      "source": [
        "# Working with Colab\r\n",
        "\"\"\"\r\n",
        "from google.colab.patches import cv2_imshow    \r\n",
        "from google.colab import drive \r\n",
        "drive.mount('/content/drive')\r\n",
        "path = '/content/drive/MyDrive/data/aerium/Parking Lot/'\r\n",
        "\"\"\""
      ],
      "outputs": [],
      "metadata": {
        "colab": {
          "base_uri": "https://localhost:8080/"
        },
        "id": "bLu1rwmSMiHA",
        "outputId": "c150c6fb-9992-4b0c-dd8c-5d45e1cdf8a2"
      }
    },
    {
      "cell_type": "code",
      "execution_count": 3,
      "source": [
        "## A function that uses plot to show original and output image\r\n",
        "def plot_result(original,processed):\r\n",
        "    plt.subplot(121),plt.imshow(original)\r\n",
        "    plt.title('Original'),plt.xticks([]), plt.yticks([])\r\n",
        "    plt.subplot(122),plt.imshow(processed,cmap='gray')\r\n",
        "    plt.title(\"Output\"),plt.xticks([]), plt.yticks([])\r\n",
        "    plt.show()\r\n"
      ],
      "outputs": [],
      "metadata": {}
    },
    {
      "cell_type": "code",
      "execution_count": 4,
      "source": [
        "# Reading the data\r\n",
        "# Change the path to the appropriate destination\r\n",
        "path = '/Input-Set/Parking Lot'\r\n",
        "# A list with the data \r\n",
        "data_list = []\r\n",
        "for i in range(1, 12):\r\n",
        "  data_list.append(cv2.imread(path+'Lot'+str(i)+'.tif', cv2.IMREAD_COLOR))"
      ],
      "outputs": [],
      "metadata": {
        "id": "baBjp_PhODyV"
      }
    },
    {
      "cell_type": "code",
      "execution_count": null,
      "source": [
        "# A list with the labelled_data \r\n",
        "\"\"\"path_lablled = '\\Parham_labelled data\\Parking Lot_labelled'\r\n",
        "labelled_data_list = []\r\n",
        "for i in range(1, 12):\r\n",
        "  labelled_data_list.append(cv2.imread(path_lablled+'Lot'+str(i)+'m.png', cv2.IMREAD_COLOR))\"\"\""
      ],
      "outputs": [],
      "metadata": {}
    },
    {
      "cell_type": "code",
      "execution_count": 21,
      "source": [
        "# Choosing a sample image (int)\r\n",
        "sample_number = 0\r\n",
        "sample_im = data_list[sample_number]\r\n",
        "sample_labelled = cv2.imread('/Parham_labelled data/Parking Lot_labelled/Lot1m.png', cv2.IMREAD_GRAYSCALE)"
      ],
      "outputs": [],
      "metadata": {
        "id": "Mm_X09gJKjfq"
      }
    },
    {
      "cell_type": "code",
      "execution_count": null,
      "source": [
        "\r\n",
        "sample_im = cv2.cvtColor(sample_im, cv2.COLOR_BGR2RGB)\r\n",
        "plot_result(sample_im,sample_im)\r\n",
        "\"\"\"plt.imshow(sample_im)\r\n",
        "plt.xticks([]), plt.yticks([])\r\n",
        "plt.show()\"\"\""
      ],
      "outputs": [],
      "metadata": {}
    },
    {
      "cell_type": "code",
      "execution_count": null,
      "source": [
        "cv2.imshow('dispaly', sample_im)\r\n",
        "cv2.waitKey(0)\r\n",
        "# cv2_imshow(sample_labelled)"
      ],
      "outputs": [],
      "metadata": {
        "id": "TI9yebLGiNsg"
      }
    },
    {
      "cell_type": "code",
      "execution_count": null,
      "source": [
        "# plt.imshow( cv2.cvtColor(im, cv2.COLOR_BGR2RGB) )\r\n",
        "\r\n",
        "fig, ax = plt.subplots(1, 2, figsize=(15,30))\r\n",
        "ax[0].imshow( im[:,:,::-1] )\r\n",
        "ax[1].imshow(mask, cmap='gray')\r\n",
        "fig.show()"
      ],
      "outputs": [],
      "metadata": {
        "colab": {
          "base_uri": "https://localhost:8080/",
          "height": 432
        },
        "id": "hKk-Sx56cXbo",
        "outputId": "210cdbe8-d6d4-4a4b-82fb-038aed6a42d5"
      }
    },
    {
      "cell_type": "code",
      "execution_count": null,
      "source": [],
      "outputs": [],
      "metadata": {
        "id": "_g6z_Uca5euL"
      }
    },
    {
      "cell_type": "code",
      "execution_count": null,
      "source": [
        "def add_grid(img, dx, dy=None):\r\n",
        "\r\n",
        "  im = np.copy(img)\r\n",
        "  if dy is None: dy = dx\r\n",
        "\r\n",
        "  grid_color = [255,0,0]\r\n",
        "\r\n",
        "  im[:,::dy,:] = grid_color\r\n",
        "  im[::dx,:,:] = grid_color\r\n",
        "\r\n",
        "  plt.imshow(im)\r\n",
        "  plt.axis('off')\r\n",
        "  plt.show()"
      ],
      "outputs": [],
      "metadata": {
        "id": "-7BP9zk9KjVs"
      }
    },
    {
      "cell_type": "code",
      "execution_count": null,
      "source": [
        "dx = 500\r\n",
        "add_grid(lots[0][:,:,::-1], dx)\r\n",
        "add_grid(plt.imread(path[:-5]+'masks/Lot1m.jpg'), dx)\r\n"
      ],
      "outputs": [],
      "metadata": {
        "colab": {
          "base_uri": "https://localhost:8080/",
          "height": 1000
        },
        "id": "mVxwPsTlKjCK",
        "outputId": "0074e7c6-46f7-4c0c-bf1d-698ff4246041"
      }
    },
    {
      "cell_type": "code",
      "execution_count": null,
      "source": [],
      "outputs": [],
      "metadata": {
        "id": "bcFAHkoyqHPc"
      }
    },
    {
      "cell_type": "code",
      "execution_count": null,
      "source": [
        "fig, ax = plt.subplots(3, 4, figsize=(15,15))\r\n",
        "for i in range(3):\r\n",
        "  for j in range(4):\r\n",
        "    if 4*i+j < 11:\r\n",
        "      ax[i][j].imshow( lots[4*i+j][:,:,::-1])\r\n",
        "    ax[i][j].axis('off')"
      ],
      "outputs": [],
      "metadata": {
        "colab": {
          "base_uri": "https://localhost:8080/",
          "height": 817
        },
        "id": "TzGkTObQqJQC",
        "outputId": "c593094c-3b7f-46ba-f684-1aab02b5c106"
      }
    },
    {
      "cell_type": "code",
      "execution_count": null,
      "source": [
        "p1 = np.concatenate((lots[0][:,:,::-1], mask[:,:,np.newaxis]), axis=2)\n",
        "print(p1.dtype)\n",
        "\n",
        "fig, ax = plt.subplots(1, 2, figsize=(15,30))\n",
        "ax[0].imshow(p1[:,:,:3])\n",
        "ax[1].imshow(p1[:,:,3], cmap='gray')\n",
        "fig.show()"
      ],
      "outputs": [],
      "metadata": {
        "colab": {
          "base_uri": "https://localhost:8080/",
          "height": 449
        },
        "id": "RXBKiJk4qG_4",
        "outputId": "a68fbdd1-3468-4932-a544-6ee318c5efa6"
      }
    },
    {
      "cell_type": "code",
      "execution_count": null,
      "source": [
        "import torch\n",
        "import torch.nn.functional as F"
      ],
      "outputs": [],
      "metadata": {
        "id": "pQpYKHDaqJXl"
      }
    },
    {
      "cell_type": "code",
      "execution_count": null,
      "source": [
        "t = torch.from_numpy(p1).permute(2,0,1).unsqueeze(0)\n",
        "print(t.shape, t.dtype)\n",
        "plt.imshow(t[0,:3,:,:].permute(1,2,0))\n",
        "print(t[0,:3,:,:].shape)"
      ],
      "outputs": [],
      "metadata": {
        "colab": {
          "base_uri": "https://localhost:8080/",
          "height": 629
        },
        "id": "0vQrkk4bx7KA",
        "outputId": "28e78d89-fd71-4e0e-8195-124595e74cb7"
      }
    },
    {
      "cell_type": "code",
      "execution_count": null,
      "source": [
        "print(t.shape, '\\n',\n",
        "      t.stride(), '\\n',\n",
        "      t.contiguous().stride())"
      ],
      "outputs": [],
      "metadata": {
        "colab": {
          "base_uri": "https://localhost:8080/"
        },
        "id": "ELzXCFjGx7Ed",
        "outputId": "3c4ddca1-18bc-4caa-fa40-81e01bdeecc7"
      }
    },
    {
      "cell_type": "code",
      "execution_count": null,
      "source": [
        "k = 700\n",
        "s = 500\n",
        "p = t.unfold(2, k, s).unfold(3, k, s)\n",
        "print(p.size())\n",
        "\n",
        "n = p.size(2)\n",
        "fig, ax = plt.subplots(n, n, figsize=(20, 20))\n",
        "for i in range(n):\n",
        "  for j in range(n):\n",
        "    ax[i][j].imshow(p[0,:3, i,j, :,:].permute(1,2,0))\n",
        "    ax[i][j].axis('off')"
      ],
      "outputs": [],
      "metadata": {
        "colab": {
          "base_uri": "https://localhost:8080/",
          "height": 1000
        },
        "id": "Qr9zTTh4x69-",
        "outputId": "a380d12d-06fa-44b4-8a46-6ad04ad24b18"
      }
    },
    {
      "cell_type": "code",
      "execution_count": null,
      "source": [
        "fig, ax = plt.subplots(n, n, figsize=(10, 10))\n",
        "c = 0\n",
        "for i in range(n):\n",
        "  for j in range(n):\n",
        "    ax[i][j].imshow(p[0,3, i,j, :,:], cmap='gray')\n",
        "    ax[i][j].axis('off')\n",
        "    if p[0,3, i,j, :,:].min() == 255:\n",
        "      c += 1\n",
        "# Black square means no crack in this patch\n",
        "print(f'{100-(c/(n*n)*100):.0f}% of patches have cracks')"
      ],
      "outputs": [],
      "metadata": {
        "id": "DBLS3LVnx6p1",
        "colab": {
          "base_uri": "https://localhost:8080/",
          "height": 592
        },
        "outputId": "b9292f8d-2c3b-48b2-e38e-53844cc296d2"
      }
    },
    {
      "cell_type": "code",
      "execution_count": null,
      "source": [
        "p[0,3, 1,6, :,:].min()"
      ],
      "outputs": [],
      "metadata": {
        "id": "-ysxVgauCL27",
        "colab": {
          "base_uri": "https://localhost:8080/"
        },
        "outputId": "452af5e7-5893-4a8d-b62d-54fada8827ba"
      }
    },
    {
      "cell_type": "code",
      "execution_count": null,
      "source": [
        "# This does not work as F.unfold does not support int dtype tensor\n",
        "# F.unfold(t, kernel_size=(k,k), stride=s)"
      ],
      "outputs": [],
      "metadata": {
        "id": "s_nDcquKHwKy"
      }
    },
    {
      "cell_type": "code",
      "execution_count": null,
      "source": [],
      "outputs": [],
      "metadata": {
        "id": "Pc7w-PQ7HwAw"
      }
    },
    {
      "cell_type": "code",
      "execution_count": null,
      "source": [],
      "outputs": [],
      "metadata": {
        "id": "AodDbqE-qG3M"
      }
    },
    {
      "cell_type": "code",
      "execution_count": null,
      "source": [
        "for img in lots:\n",
        "  print(img.shape)"
      ],
      "outputs": [],
      "metadata": {
        "id": "rqOc0jOlpXPM",
        "colab": {
          "base_uri": "https://localhost:8080/"
        },
        "outputId": "55713db8-e909-4007-af40-057db2f6272b"
      }
    },
    {
      "cell_type": "code",
      "execution_count": null,
      "source": [
        "from PIL import Image\n",
        "im = Image.open(path+'Lot2.tif').resize((200,200))\n",
        "im"
      ],
      "outputs": [],
      "metadata": {
        "id": "HS6CY5iFva5z",
        "colab": {
          "base_uri": "https://localhost:8080/",
          "height": 217
        },
        "outputId": "7ee505c5-779a-41c9-e11a-76478b726e1b"
      }
    },
    {
      "cell_type": "code",
      "execution_count": null,
      "source": [
        "i, j = 1000, 2300\n",
        "pixels = 448\n",
        "cv2_imshow(lots[0][i:i+pixels, j:j+pixels, :])"
      ],
      "outputs": [],
      "metadata": {
        "id": "C9NbvaMCHLqt",
        "colab": {
          "base_uri": "https://localhost:8080/",
          "height": 465
        },
        "outputId": "fa909cbb-0f15-4477-e2ce-2262fb66278d"
      }
    },
    {
      "cell_type": "code",
      "execution_count": null,
      "source": [],
      "outputs": [],
      "metadata": {
        "id": "e7Bz_4GceOfm"
      }
    }
  ]
}